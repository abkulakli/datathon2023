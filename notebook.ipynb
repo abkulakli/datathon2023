{
 "cells": [
  {
   "cell_type": "code",
   "execution_count": 29,
   "metadata": {},
   "outputs": [],
   "source": [
    "import math\n",
    "import collections\n",
    "import numpy as np\n",
    "import pandas as pd\n",
    "import seaborn as sns\n",
    "import matplotlib.pyplot as pp\n",
    "\n",
    "%matplotlib inline"
   ]
  },
  {
   "cell_type": "code",
   "execution_count": 34,
   "metadata": {},
   "outputs": [],
   "source": [
    "train_data = pd.read_csv('data/train.csv')"
   ]
  },
  {
   "cell_type": "code",
   "execution_count": 35,
   "metadata": {},
   "outputs": [
    {
     "name": "stdout",
     "output_type": "stream",
     "text": [
      "<class 'pandas.core.frame.DataFrame'>\n",
      "RangeIndex: 5460 entries, 0 to 5459\n",
      "Data columns (total 14 columns):\n",
      " #   Column                                      Non-Null Count  Dtype  \n",
      "---  ------                                      --------------  -----  \n",
      " 0   index                                       5460 non-null   int64  \n",
      " 1   Cinsiyet                                    5460 non-null   object \n",
      " 2   Yaş Grubu                                   5460 non-null   object \n",
      " 3   Medeni Durum                                5460 non-null   object \n",
      " 4   Eğitim Düzeyi                               5460 non-null   object \n",
      " 5   İstihdam Durumu                             5460 non-null   object \n",
      " 6   Yıllık Ortalama Gelir                       5460 non-null   float64\n",
      " 7   Yaşadığı Şehir                              5460 non-null   object \n",
      " 8   En Çok İlgilendiği Ürün Grubu               5460 non-null   object \n",
      " 9   Yıllık Ortalama Satın Alım Miktarı          5460 non-null   float64\n",
      " 10  Yıllık Ortalama Sipariş Verilen Ürün Adedi  5460 non-null   float64\n",
      " 11  Eğitime Devam Etme Durumu                   5460 non-null   object \n",
      " 12  Öbek İsmi                                   5460 non-null   object \n",
      " 13  Yıllık Ortalama Sepete Atılan Ürün Adedi    5460 non-null   float64\n",
      "dtypes: float64(4), int64(1), object(9)\n",
      "memory usage: 597.3+ KB\n"
     ]
    }
   ],
   "source": [
    "train_data.info()"
   ]
  },
  {
   "cell_type": "code",
   "execution_count": 36,
   "metadata": {},
   "outputs": [],
   "source": [
    "test_data = pd.read_csv('data/test_x.csv')"
   ]
  },
  {
   "cell_type": "code",
   "execution_count": 37,
   "metadata": {},
   "outputs": [
    {
     "name": "stdout",
     "output_type": "stream",
     "text": [
      "<class 'pandas.core.frame.DataFrame'>\n",
      "RangeIndex: 2340 entries, 0 to 2339\n",
      "Data columns (total 13 columns):\n",
      " #   Column                                      Non-Null Count  Dtype  \n",
      "---  ------                                      --------------  -----  \n",
      " 0   index                                       2340 non-null   int64  \n",
      " 1   Cinsiyet                                    2340 non-null   object \n",
      " 2   Yaş Grubu                                   2340 non-null   object \n",
      " 3   Medeni Durum                                2340 non-null   object \n",
      " 4   Eğitim Düzeyi                               2340 non-null   object \n",
      " 5   İstihdam Durumu                             2340 non-null   object \n",
      " 6   Yıllık Ortalama Gelir                       2340 non-null   float64\n",
      " 7   Yaşadığı Şehir                              2340 non-null   object \n",
      " 8   En Çok İlgilendiği Ürün Grubu               2340 non-null   object \n",
      " 9   Yıllık Ortalama Satın Alım Miktarı          2340 non-null   float64\n",
      " 10  Yıllık Ortalama Sipariş Verilen Ürün Adedi  2340 non-null   float64\n",
      " 11  Eğitime Devam Etme Durumu                   2340 non-null   object \n",
      " 12  Yıllık Ortalama Sepete Atılan Ürün Adedi    2340 non-null   float64\n",
      "dtypes: float64(4), int64(1), object(8)\n",
      "memory usage: 237.8+ KB\n"
     ]
    }
   ],
   "source": [
    "test_data.info()"
   ]
  },
  {
   "cell_type": "code",
   "execution_count": 46,
   "metadata": {},
   "outputs": [
    {
     "name": "stdout",
     "output_type": "stream",
     "text": [
      "Your submission was successfully saved!\n"
     ]
    }
   ],
   "source": [
    "from sklearn.ensemble import RandomForestClassifier\n",
    "\n",
    "y = train_data[\"Öbek İsmi\"]\n",
    "\n",
    "features = [\"Cinsiyet\", \"Yaş Grubu\", \"Medeni Durum\", \"Eğitim Düzeyi\", \"İstihdam Durumu\", \"Yaşadığı Şehir\", \"En Çok İlgilendiği Ürün Grubu\", \"Eğitime Devam Etme Durumu\"]\n",
    "X = pd.get_dummies(train_data[features])\n",
    "X_test = pd.get_dummies(test_data[features])\n",
    "\n",
    "model = RandomForestClassifier(n_estimators=100, max_depth=5, random_state=1)\n",
    "model.fit(X, y)\n",
    "predictions = model.predict(X_test)\n",
    "\n",
    "output = pd.DataFrame({'id': range(len(predictions)), 'Öbek İsmi': predictions})\n",
    "output.to_csv('submission.csv', index=False)\n",
    "print(\"Your submission was successfully saved!\")"
   ]
  },
  {
   "cell_type": "code",
   "execution_count": null,
   "metadata": {},
   "outputs": [],
   "source": []
  }
 ],
 "metadata": {
  "kernelspec": {
   "display_name": "Python 3",
   "language": "python",
   "name": "python3"
  },
  "language_info": {
   "codemirror_mode": {
    "name": "ipython",
    "version": 3
   },
   "file_extension": ".py",
   "mimetype": "text/x-python",
   "name": "python",
   "nbconvert_exporter": "python",
   "pygments_lexer": "ipython3",
   "version": "3.10.12"
  },
  "orig_nbformat": 4
 },
 "nbformat": 4,
 "nbformat_minor": 2
}
