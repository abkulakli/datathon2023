{
 "cells": [
  {
   "cell_type": "code",
   "execution_count": 3,
   "metadata": {},
   "outputs": [],
   "source": [
    "import math\n",
    "import collections\n",
    "import numpy as np\n",
    "import pandas as pd\n",
    "import matplotlib.pyplot as pp\n",
    "\n",
    "%matplotlib inline"
   ]
  },
  {
   "cell_type": "code",
   "execution_count": 12,
   "metadata": {},
   "outputs": [],
   "source": [
    "df_train = pd.read_csv('train.csv')"
   ]
  },
  {
   "cell_type": "code",
   "execution_count": 11,
   "metadata": {},
   "outputs": [
    {
     "name": "stdout",
     "output_type": "stream",
     "text": [
      "<class 'pandas.core.frame.DataFrame'>\n",
      "RangeIndex: 5460 entries, 0 to 5459\n",
      "Data columns (total 14 columns):\n",
      " #   Column                                      Non-Null Count  Dtype  \n",
      "---  ------                                      --------------  -----  \n",
      " 0   index                                       5460 non-null   int64  \n",
      " 1   Cinsiyet                                    5460 non-null   object \n",
      " 2   Yaş Grubu                                   5460 non-null   object \n",
      " 3   Medeni Durum                                5460 non-null   object \n",
      " 4   Eğitim Düzeyi                               5460 non-null   object \n",
      " 5   İstihdam Durumu                             5460 non-null   object \n",
      " 6   Yıllık Ortalama Gelir                       5460 non-null   float64\n",
      " 7   Yaşadığı Şehir                              5460 non-null   object \n",
      " 8   En Çok İlgilendiği Ürün Grubu               5460 non-null   object \n",
      " 9   Yıllık Ortalama Satın Alım Miktarı          5460 non-null   float64\n",
      " 10  Yıllık Ortalama Sipariş Verilen Ürün Adedi  5460 non-null   float64\n",
      " 11  Eğitime Devam Etme Durumu                   5460 non-null   object \n",
      " 12  Öbek İsmi                                   5460 non-null   object \n",
      " 13  Yıllık Ortalama Sepete Atılan Ürün Adedi    5460 non-null   float64\n",
      "dtypes: float64(4), int64(1), object(9)\n",
      "memory usage: 597.3+ KB\n"
     ]
    }
   ],
   "source": [
    "df_train.info()"
   ]
  },
  {
   "cell_type": "code",
   "execution_count": 10,
   "metadata": {},
   "outputs": [
    {
     "name": "stdout",
     "output_type": "stream",
     "text": [
      "<class 'pandas.core.frame.DataFrame'>\n",
      "RangeIndex: 2340 entries, 0 to 2339\n",
      "Data columns (total 13 columns):\n",
      " #   Column                                      Non-Null Count  Dtype  \n",
      "---  ------                                      --------------  -----  \n",
      " 0   index                                       2340 non-null   int64  \n",
      " 1   Cinsiyet                                    2340 non-null   object \n",
      " 2   Yaş Grubu                                   2340 non-null   object \n",
      " 3   Medeni Durum                                2340 non-null   object \n",
      " 4   Eğitim Düzeyi                               2340 non-null   object \n",
      " 5   İstihdam Durumu                             2340 non-null   object \n",
      " 6   Yıllık Ortalama Gelir                       2340 non-null   float64\n",
      " 7   Yaşadığı Şehir                              2340 non-null   object \n",
      " 8   En Çok İlgilendiği Ürün Grubu               2340 non-null   object \n",
      " 9   Yıllık Ortalama Satın Alım Miktarı          2340 non-null   float64\n",
      " 10  Yıllık Ortalama Sipariş Verilen Ürün Adedi  2340 non-null   float64\n",
      " 11  Eğitime Devam Etme Durumu                   2340 non-null   object \n",
      " 12  Yıllık Ortalama Sepete Atılan Ürün Adedi    2340 non-null   float64\n",
      "dtypes: float64(4), int64(1), object(8)\n",
      "memory usage: 237.8+ KB\n"
     ]
    }
   ],
   "source": [
    "df_test = pd.read_csv('test_x.csv')"
   ]
  },
  {
   "cell_type": "code",
   "execution_count": 13,
   "metadata": {},
   "outputs": [
    {
     "name": "stdout",
     "output_type": "stream",
     "text": [
      "<class 'pandas.core.frame.DataFrame'>\n",
      "RangeIndex: 2340 entries, 0 to 2339\n",
      "Data columns (total 13 columns):\n",
      " #   Column                                      Non-Null Count  Dtype  \n",
      "---  ------                                      --------------  -----  \n",
      " 0   index                                       2340 non-null   int64  \n",
      " 1   Cinsiyet                                    2340 non-null   object \n",
      " 2   Yaş Grubu                                   2340 non-null   object \n",
      " 3   Medeni Durum                                2340 non-null   object \n",
      " 4   Eğitim Düzeyi                               2340 non-null   object \n",
      " 5   İstihdam Durumu                             2340 non-null   object \n",
      " 6   Yıllık Ortalama Gelir                       2340 non-null   float64\n",
      " 7   Yaşadığı Şehir                              2340 non-null   object \n",
      " 8   En Çok İlgilendiği Ürün Grubu               2340 non-null   object \n",
      " 9   Yıllık Ortalama Satın Alım Miktarı          2340 non-null   float64\n",
      " 10  Yıllık Ortalama Sipariş Verilen Ürün Adedi  2340 non-null   float64\n",
      " 11  Eğitime Devam Etme Durumu                   2340 non-null   object \n",
      " 12  Yıllık Ortalama Sepete Atılan Ürün Adedi    2340 non-null   float64\n",
      "dtypes: float64(4), int64(1), object(8)\n",
      "memory usage: 237.8+ KB\n"
     ]
    }
   ],
   "source": [
    "df_test.info()"
   ]
  },
  {
   "cell_type": "code",
   "execution_count": 16,
   "metadata": {},
   "outputs": [
    {
     "data": {
      "text/plain": [
       "array(['Kadın', 'Erkek'], dtype=object)"
      ]
     },
     "execution_count": 16,
     "metadata": {},
     "output_type": "execute_result"
    }
   ],
   "source": [
    "df_train[\"Cinsiyet\"].unique()"
   ]
  },
  {
   "cell_type": "code",
   "execution_count": 17,
   "metadata": {},
   "outputs": [
    {
     "data": {
      "text/plain": [
       "array(['31-40', '>60', '18-30', '51-60', '41-50'], dtype=object)"
      ]
     },
     "execution_count": 17,
     "metadata": {},
     "output_type": "execute_result"
    }
   ],
   "source": [
    "df_train[\"Yaş Grubu\"].unique()"
   ]
  },
  {
   "cell_type": "code",
   "execution_count": 19,
   "metadata": {},
   "outputs": [
    {
     "data": {
      "text/plain": [
       "array(['Bekar', 'Evli'], dtype=object)"
      ]
     },
     "execution_count": 19,
     "metadata": {},
     "output_type": "execute_result"
    }
   ],
   "source": [
    "df_train[\"Medeni Durum\"].unique()"
   ]
  },
  {
   "cell_type": "code",
   "execution_count": null,
   "metadata": {},
   "outputs": [],
   "source": []
  }
 ],
 "metadata": {
  "kernelspec": {
   "display_name": "Python 3",
   "language": "python",
   "name": "python3"
  },
  "language_info": {
   "codemirror_mode": {
    "name": "ipython",
    "version": 3
   },
   "file_extension": ".py",
   "mimetype": "text/x-python",
   "name": "python",
   "nbconvert_exporter": "python",
   "pygments_lexer": "ipython3",
   "version": "3.10.12"
  },
  "orig_nbformat": 4
 },
 "nbformat": 4,
 "nbformat_minor": 2
}
